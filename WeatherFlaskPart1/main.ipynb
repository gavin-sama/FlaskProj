{
 "cells": [
  {
   "cell_type": "code",
   "execution_count": 9,
   "metadata": {},
   "outputs": [
    {
     "name": "stdout",
     "output_type": "stream",
     "text": [
      "Coordinates: 35.03146743774414°N, -85.30209350585938°E\n",
      "Elevation: 209.0 m asl\n",
      "Timezone: America/New_York (EST)\n",
      "Timezone difference to GMT+0: -18000 seconds\n",
      "Current time: 2024-11-04 19:30:00\n",
      "Current temperature (2m): 67.35°F\n",
      "Current is day: Yes\n",
      "Current wind speed (10m): 10.52 mph\n"
     ]
    },
    {
     "name": "stderr",
     "output_type": "stream",
     "text": [
      "C:\\Users\\gwalt\\AppData\\Local\\Temp\\ipykernel_53804\\3426497357.py:34: DeprecationWarning: datetime.datetime.utcfromtimestamp() is deprecated and scheduled for removal in a future version. Use timezone-aware objects to represent datetimes in UTC: datetime.datetime.fromtimestamp(timestamp, datetime.UTC).\n",
      "  current_time = datetime.utcfromtimestamp(current.Time()).strftime('%Y-%m-%d %H:%M:%S')\n"
     ]
    }
   ],
   "source": [
    "import openmeteo_requests\n",
    "import requests_cache\n",
    "import pandas as pd\n",
    "from retry_requests import retry\n",
    "from datetime import datetime\n",
    "\n",
    "# Setup the Open-Meteo API client with cache and retry on error\n",
    "cache_session = requests_cache.CachedSession('.cache', expire_after=3600)\n",
    "retry_session = retry(cache_session, retries=5, backoff_factor=0.2)\n",
    "openmeteo = openmeteo_requests.Client(session=retry_session)\n",
    "\n",
    "# Open-Meteo API parameters\n",
    "url = \"https://api.open-meteo.com/v1/forecast\"\n",
    "params = {\n",
    "    \"latitude\": 35.0458,\n",
    "    \"longitude\": -85.3094,\n",
    "    \"current\": [\"temperature_2m\", \"is_day\", \"wind_speed_10m\"],\n",
    "    \"daily\": \"daylight_duration\",\n",
    "    \"temperature_unit\": \"fahrenheit\",\n",
    "    \"wind_speed_unit\": \"mph\",\n",
    "    \"timezone\": \"auto\"\n",
    "}\n",
    "responses = openmeteo.weather_api(url, params=params)\n",
    "\n",
    "# Process first location\n",
    "response = responses[0]\n",
    "print(f\"Coordinates: {response.Latitude()}°N, {response.Longitude()}°E\")\n",
    "print(f\"Elevation: {response.Elevation()} m asl\")\n",
    "print(f\"Timezone: {response.Timezone().decode('utf-8')} ({response.TimezoneAbbreviation().decode('utf-8')})\")\n",
    "print(f\"Timezone difference to GMT+0: {response.UtcOffsetSeconds()} seconds\")\n",
    "\n",
    "# Current weather data\n",
    "current = response.Current()\n",
    "current_time = datetime.utcfromtimestamp(current.Time()).strftime('%Y-%m-%d %H:%M:%S')\n",
    "current_temperature_2m = round(current.Variables(0).Value(), 2)\n",
    "current_is_day = int(current.Variables(1).Value())\n",
    "current_wind_speed_10m = round(current.Variables(2).Value(), 2)\n",
    "\n",
    "print(f\"Current time: {current_time}\")\n",
    "print(f\"Current temperature (2m): {current_temperature_2m}°F\")\n",
    "print(f\"Current is day: {'Yes' if current_is_day == 1 else 'No'}\")\n",
    "print(f\"Current wind speed (10m): {current_wind_speed_10m} mph\")\n"
   ]
  }
 ],
 "metadata": {
  "kernelspec": {
   "display_name": "Python 3",
   "language": "python",
   "name": "python3"
  },
  "language_info": {
   "codemirror_mode": {
    "name": "ipython",
    "version": 3
   },
   "file_extension": ".py",
   "mimetype": "text/x-python",
   "name": "python",
   "nbconvert_exporter": "python",
   "pygments_lexer": "ipython3",
   "version": "3.12.7"
  }
 },
 "nbformat": 4,
 "nbformat_minor": 2
}
